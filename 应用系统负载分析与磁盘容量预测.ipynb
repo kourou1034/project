{
 "cells": [
  {
   "cell_type": "markdown",
   "metadata": {},
   "source": [
    "针对历史磁盘数据，采用时间序列分析方法，预测应用系统服务器磁盘已使用空间大小。\n",
    "\n",
    "根据用户需求设置不同的预警等级，将预测值与容量值进行比较，对其结果进行预警判断，为系统管理员提供定制化的预警提示。"
   ]
  },
  {
   "cell_type": "code",
   "execution_count": 1,
   "metadata": {
    "collapsed": true
   },
   "outputs": [],
   "source": [
    "import pandas as pd\n",
    "import numpy as np\n",
    "import matplotlib.pyplot as plt\n",
    "%matplotlib notebook"
   ]
  },
  {
   "cell_type": "code",
   "execution_count": 2,
   "metadata": {
    "collapsed": true
   },
   "outputs": [],
   "source": [
    "dicdata = pd.read_excel('F:/pydata/Data/chapter11/demo/data/discdata.xls')"
   ]
  },
  {
   "cell_type": "markdown",
   "metadata": {},
   "source": [
    "**属性变换**"
   ]
  },
  {
   "cell_type": "code",
   "execution_count": 4,
   "metadata": {
    "collapsed": true
   },
   "outputs": [],
   "source": [
    "data = dicdata[dicdata['TARGET_ID'] == 184].copy()\n",
    "data_group = data.groupby('COLLECTTIME')"
   ]
  },
  {
   "cell_type": "code",
   "execution_count": 5,
   "metadata": {
    "collapsed": true
   },
   "outputs": [],
   "source": [
    "def attr_trans(x):\n",
    "    result = pd.Series(index=['SYS_NAME','CWXT_DB:184:C:\\\\',\n",
    "                              'CWXT_DB:184:D:\\\\','COLLECTTIME'])\n",
    "    result['SYS_NAME'] = x['SYS_NAME'].iloc[0]\n",
    "    result['COLLECTTIME'] = x['COLLECTTIME'].iloc[0]\n",
    "    result['CWXT_DB:184:C:\\\\'] = x['VALUE'].iloc[0]\n",
    "    result['CWXT_DB:184:D:\\\\'] = x['VALUE'].iloc[1]\n",
    "    return result"
   ]
  },
  {
   "cell_type": "code",
   "execution_count": 7,
   "metadata": {
    "collapsed": true
   },
   "outputs": [],
   "source": [
    "data_processed = data_group.apply(attr_trans)\n",
    "data_processed.to_excel('charpter11/discdata_processed.xlsx',\n",
    "                       index=False)"
   ]
  },
  {
   "cell_type": "markdown",
   "metadata": {},
   "source": [
    "**模型构建**\n",
    "\n",
    "（1）平稳性检验"
   ]
  },
  {
   "cell_type": "code",
   "execution_count": 9,
   "metadata": {
    "collapsed": true
   },
   "outputs": [],
   "source": [
    "data = data_processed[:len(data_processed)-5]"
   ]
  },
  {
   "cell_type": "code",
   "execution_count": 12,
   "metadata": {
    "collapsed": true
   },
   "outputs": [],
   "source": [
    "from statsmodels.tsa.stattools import adfuller as ADF"
   ]
  },
  {
   "cell_type": "code",
   "execution_count": 13,
   "metadata": {},
   "outputs": [
    {
     "name": "stdout",
     "output_type": "stream",
     "text": [
      "原始序列经过1阶差分后归于平稳，p值为4.79259126339e-07\n"
     ]
    }
   ],
   "source": [
    "diff = 0\n",
    "adf = ADF(data['CWXT_DB:184:D:\\\\'])\n",
    "while adf[1] >= 0.05:\n",
    "    diff = diff + 1\n",
    "    adf = ADF(data['CWXT_DB:184:D:\\\\'].diff(diff).dropna())\n",
    "print('原始序列经过%s阶差分后归于平稳，p值为%s' %(diff,adf[1]))"
   ]
  },
  {
   "cell_type": "markdown",
   "metadata": {},
   "source": [
    "（2）白噪声检验"
   ]
  },
  {
   "cell_type": "code",
   "execution_count": 17,
   "metadata": {},
   "outputs": [
    {
     "name": "stdout",
     "output_type": "stream",
     "text": [
      "原始序列为非白噪声序列，对应的p值为：9.95850372977e-06\n",
      "一阶差分序列为白噪声序列，对应的p值为：0.114330259776\n"
     ]
    }
   ],
   "source": [
    "from statsmodels.stats.diagnostic import acorr_ljungbox\n",
    "[[lb],[p]] = acorr_ljungbox(data['CWXT_DB:184:D:\\\\'],lags=1)\n",
    "if p < 0.05:\n",
    "    print('原始序列为非白噪声序列，对应的p值为：%s' %p)\n",
    "else:\n",
    "    print('原始序列为白噪声序列，对应的p值为：%s' %p)\n",
    "    \n",
    "[[lb],[p]] = acorr_ljungbox(data['CWXT_DB:184:D:\\\\'].diff().dropna(),lags=1)\n",
    "if p < 0.05:\n",
    "    print('一阶差分序列为非白噪声序列，对应的p值为：%s' %p)\n",
    "else:\n",
    "    print('一阶差分序列为白噪声序列，对应的p值为：%s' %p)"
   ]
  },
  {
   "cell_type": "code",
   "execution_count": 18,
   "metadata": {
    "collapsed": true
   },
   "outputs": [],
   "source": [
    "from statsmodels.tsa.arima_model import ARIMA"
   ]
  },
  {
   "cell_type": "markdown",
   "metadata": {},
   "source": [
    "（3）模型识别"
   ]
  },
  {
   "cell_type": "code",
   "execution_count": 21,
   "metadata": {},
   "outputs": [
    {
     "name": "stderr",
     "output_type": "stream",
     "text": [
      "C:\\Anaconda3\\lib\\site-packages\\statsmodels\\base\\model.py:496: ConvergenceWarning: Maximum Likelihood optimization failed to converge. Check mle_retvals\n",
      "  \"Check mle_retvals\", ConvergenceWarning)\n",
      "C:\\Anaconda3\\lib\\site-packages\\statsmodels\\base\\model.py:496: ConvergenceWarning: Maximum Likelihood optimization failed to converge. Check mle_retvals\n",
      "  \"Check mle_retvals\", ConvergenceWarning)\n",
      "C:\\Anaconda3\\lib\\site-packages\\statsmodels\\base\\model.py:473: HessianInversionWarning: Inverting hessian failed, no bse or cov_params available\n",
      "  'available', HessianInversionWarning)\n"
     ]
    },
    {
     "name": "stdout",
     "output_type": "stream",
     "text": [
      "BIC最小的p值和q值为：1,1\n"
     ]
    }
   ],
   "source": [
    "xdata = data['CWXT_DB:184:D:\\\\']\n",
    "# 定阶\n",
    "pmax = int(len(xdata)/10)\n",
    "qmax = int(len(xdata)/10)\n",
    "bic_matrix = []\n",
    "for p in range(pmax+1):\n",
    "    tmp = []\n",
    "    for q in range(qmax+1):\n",
    "        try:\n",
    "            tmp.append(ARIMA(xdata,(p,1,q)).fit().bic)\n",
    "        except:\n",
    "            tmp.append(None)\n",
    "    bic_matrix.append(tmp)\n",
    "bic_matrix = pd.DataFrame(bic_matrix)\n",
    "p,q = bic_matrix.stack().idxmin()\n",
    "print('BIC最小的p值和q值为：%s,%s' %(p,q))"
   ]
  },
  {
   "cell_type": "markdown",
   "metadata": {},
   "source": [
    "（4）模型检验"
   ]
  },
  {
   "cell_type": "code",
   "execution_count": 26,
   "metadata": {},
   "outputs": [
    {
     "name": "stdout",
     "output_type": "stream",
     "text": [
      "模型ARIMA(0,1,1)符合白噪声检验\n"
     ]
    }
   ],
   "source": [
    "from statsmodels.tsa.arima_model import ARIMA\n",
    "lagnum = 12  # 残差延迟个数\n",
    "arima = ARIMA(xdata,(0,1,1)).fit()\n",
    "xdata_pred = arima.predict(typ = 'levels')\n",
    "pred_error = (xdata_pred - xdata).dropna()\n",
    "from statsmodels.stats.diagnostic import acorr_ljungbox\n",
    "lb, p = acorr_ljungbox(pred_error, lags=lagnum)\n",
    "h = (p < 0.05).sum()\n",
    "if h > 0:\n",
    "    print('模型ARIMA(0,1,1)不符合白噪声检验')\n",
    "else:\n",
    "    print('模型ARIMA(0,1,1)符合白噪声检验')"
   ]
  },
  {
   "cell_type": "markdown",
   "metadata": {},
   "source": [
    "（5）模型预测"
   ]
  },
  {
   "cell_type": "code",
   "execution_count": 3,
   "metadata": {},
   "outputs": [],
   "source": [
    "data = pd.read_excel('charpter11/discdata_processed.xlsx', \n",
    "                     index_col='COLLECTTIME')\n",
    "data = data.iloc[len(data)-5:]"
   ]
  },
  {
   "cell_type": "code",
   "execution_count": 4,
   "metadata": {},
   "outputs": [
    {
     "ename": "NameError",
     "evalue": "name 'arima' is not defined",
     "output_type": "error",
     "traceback": [
      "\u001b[0;31m---------------------------------------------------------------------------\u001b[0m",
      "\u001b[0;31mNameError\u001b[0m                                 Traceback (most recent call last)",
      "\u001b[0;32m<ipython-input-4-af5d0081f53c>\u001b[0m in \u001b[0;36m<module>\u001b[0;34m()\u001b[0m\n\u001b[0;32m----> 1\u001b[0;31m \u001b[0mydata_pred\u001b[0m \u001b[1;33m=\u001b[0m \u001b[0marima\u001b[0m\u001b[1;33m.\u001b[0m\u001b[0mforecast\u001b[0m\u001b[1;33m(\u001b[0m\u001b[1;36m5\u001b[0m\u001b[1;33m)\u001b[0m\u001b[1;33m\u001b[0m\u001b[0m\n\u001b[0m\u001b[1;32m      2\u001b[0m \u001b[0mydata_pred\u001b[0m\u001b[1;33m[\u001b[0m\u001b[1;36m0\u001b[0m\u001b[1;33m]\u001b[0m\u001b[1;33m\u001b[0m\u001b[0m\n",
      "\u001b[0;31mNameError\u001b[0m: name 'arima' is not defined"
     ]
    }
   ],
   "source": [
    "ydata_pred = arima.forecast(5)\n",
    "ydata_pred[0]"
   ]
  },
  {
   "cell_type": "code",
   "execution_count": 51,
   "metadata": {
    "collapsed": true
   },
   "outputs": [],
   "source": [
    "df = pd.DataFrame()\n",
    "df['实际值'] = data['CWXT_DB:184:D:\\\\']\n",
    "df['预测值'] = ydata_pred[0]"
   ]
  },
  {
   "cell_type": "code",
   "execution_count": 52,
   "metadata": {},
   "outputs": [
    {
     "data": {
      "text/html": [
       "<div>\n",
       "<table border=\"1\" class=\"dataframe\">\n",
       "  <thead>\n",
       "    <tr style=\"text-align: right;\">\n",
       "      <th></th>\n",
       "      <th>实际值</th>\n",
       "      <th>预测值</th>\n",
       "    </tr>\n",
       "    <tr>\n",
       "      <th>COLLECTTIME</th>\n",
       "      <th></th>\n",
       "      <th></th>\n",
       "    </tr>\n",
       "  </thead>\n",
       "  <tbody>\n",
       "    <tr>\n",
       "      <th>2014-11-12</th>\n",
       "      <td>87249335.55</td>\n",
       "      <td>8.803430e+07</td>\n",
       "    </tr>\n",
       "    <tr>\n",
       "      <th>2014-11-13</th>\n",
       "      <td>86986142.20</td>\n",
       "      <td>8.821701e+07</td>\n",
       "    </tr>\n",
       "    <tr>\n",
       "      <th>2014-11-14</th>\n",
       "      <td>86678240.00</td>\n",
       "      <td>8.839971e+07</td>\n",
       "    </tr>\n",
       "    <tr>\n",
       "      <th>2014-11-15</th>\n",
       "      <td>89766600.00</td>\n",
       "      <td>8.858242e+07</td>\n",
       "    </tr>\n",
       "    <tr>\n",
       "      <th>2014-11-16</th>\n",
       "      <td>89377527.25</td>\n",
       "      <td>8.876513e+07</td>\n",
       "    </tr>\n",
       "  </tbody>\n",
       "</table>\n",
       "</div>"
      ],
      "text/plain": [
       "                     实际值           预测值\n",
       "COLLECTTIME                           \n",
       "2014-11-12   87249335.55  8.803430e+07\n",
       "2014-11-13   86986142.20  8.821701e+07\n",
       "2014-11-14   86678240.00  8.839971e+07\n",
       "2014-11-15   89766600.00  8.858242e+07\n",
       "2014-11-16   89377527.25  8.876513e+07"
      ]
     },
     "execution_count": 52,
     "metadata": {},
     "output_type": "execute_result"
    }
   ],
   "source": [
    "df"
   ]
  },
  {
   "cell_type": "markdown",
   "metadata": {
    "collapsed": true
   },
   "source": [
    "**模型评价**"
   ]
  },
  {
   "cell_type": "code",
   "execution_count": 2,
   "metadata": {
    "collapsed": true
   },
   "outputs": [],
   "source": [
    "import pandas as pd"
   ]
  },
  {
   "cell_type": "code",
   "execution_count": null,
   "metadata": {
    "collapsed": true
   },
   "outputs": [],
   "source": [
    "abs_ = (df['预测值'] - df['实际值']).abs()\n",
    "mae_ = abs_.mean()\n",
    "rmse_ = (abs_**2).mean()**0.5\n",
    "mape_ = (abs_/df['实际值']).mean()\n",
    "print('平均绝对误差为：%0.4f, \\n均方根误差为：%0.4f, \\n平均绝对误差为：%0.6f。'%(mae_,rmse_,mape_))"
   ]
  }
 ],
 "metadata": {
  "kernelspec": {
   "display_name": "Python 3",
   "language": "python",
   "name": "python3"
  },
  "language_info": {
   "codemirror_mode": {
    "name": "ipython",
    "version": 3
   },
   "file_extension": ".py",
   "mimetype": "text/x-python",
   "name": "python",
   "nbconvert_exporter": "python",
   "pygments_lexer": "ipython3",
   "version": "3.6.0"
  },
  "toc": {
   "colors": {
    "hover_highlight": "#DAA520",
    "running_highlight": "#FF0000",
    "selected_highlight": "#FFD700"
   },
   "moveMenuLeft": true,
   "nav_menu": {
    "height": "4px",
    "width": "254px"
   },
   "navigate_menu": true,
   "number_sections": true,
   "sideBar": false,
   "threshold": 4,
   "toc_cell": false,
   "toc_section_display": "block",
   "toc_window_display": true,
   "widenNotebook": false
  },
  "varInspector": {
   "cols": {
    "lenName": 16,
    "lenType": 16,
    "lenVar": "50"
   },
   "kernels_config": {
    "python": {
     "delete_cmd_postfix": "",
     "delete_cmd_prefix": "del ",
     "library": "var_list.py",
     "varRefreshCmd": "print(var_dic_list())"
    },
    "r": {
     "delete_cmd_postfix": ") ",
     "delete_cmd_prefix": "rm(",
     "library": "var_list.r",
     "varRefreshCmd": "cat(var_dic_list()) "
    }
   },
   "types_to_exclude": [
    "module",
    "function",
    "builtin_function_or_method",
    "instance",
    "_Feature"
   ],
   "window_display": false
  }
 },
 "nbformat": 4,
 "nbformat_minor": 2
}
